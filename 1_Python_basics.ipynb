{
  "cells": [
    {
      "cell_type": "raw",
      "id": "c0305edc-7818-444c-924a-19240474d161",
      "metadata": {
        "id": "c0305edc-7818-444c-924a-19240474d161"
      },
      "source": []
    },
    {
      "cell_type": "code",
      "execution_count": null,
      "id": "fae5fa94-33aa-4d1e-a246-9b781a163e5d",
      "metadata": {
        "id": "fae5fa94-33aa-4d1e-a246-9b781a163e5d"
      },
      "outputs": [],
      "source": [
        "#Q1.  What is python and why is it popular?\n",
        "\n",
        "#Ans. Python is a high-level programming language used for building websites, analyzing data, creating software, automating tasks, and more.\n",
        "#it's popular because Simple syntax,Easy to Learn,Large community,Cross-platform,Fast Development"
      ]
    },
    {
      "cell_type": "code",
      "execution_count": null,
      "id": "049dc771-c44b-45b5-a1ca-0875c92f9839",
      "metadata": {
        "id": "049dc771-c44b-45b5-a1ca-0875c92f9839"
      },
      "outputs": [],
      "source": [
        " #Q2. What is interpreter in python?\n",
        "\n",
        "#Ans. An interpreter in Python is a program that runs Python code line by line. It reads and executes each command one at a time,\n",
        " #making it easy to test and debug code.\n"
      ]
    },
    {
      "cell_type": "code",
      "execution_count": null,
      "id": "65dc272a-fef2-440a-a72b-2721ac25e6c1",
      "metadata": {
        "id": "65dc272a-fef2-440a-a72b-2721ac25e6c1"
      },
      "outputs": [],
      "source": [
        "#Q3.What are pre-difined keywords in python?\n",
        "\n",
        "#Ans.Predefined keywords in Python are reserved words that have special meaning and cannot be used as variable names.\n",
        "#They are part of the Python language syntax.\n",
        "\n",
        "#Examples:\n",
        "\n",
        "#if, else, for, while, def, class, try, import, return, break, continue, lambda, etc.\n",
        "#These words are used to perform specific tasks or define structures in Python programs."
      ]
    },
    {
      "cell_type": "code",
      "execution_count": null,
      "id": "cf3606ee-9011-4ed8-ae37-ca49eb5a4301",
      "metadata": {
        "id": "cf3606ee-9011-4ed8-ae37-ca49eb5a4301"
      },
      "outputs": [],
      "source": [
        "#Q4. Can Keywords be used as veriable names?\n",
        "\n",
        "#Ans . No, keywords cannot be used as variable names in Python because they are reserved for specific purposes in the language."
      ]
    },
    {
      "cell_type": "code",
      "execution_count": null,
      "id": "52bb9400-215d-4ebc-9f7f-9572a7005cf3",
      "metadata": {
        "id": "52bb9400-215d-4ebc-9f7f-9572a7005cf3"
      },
      "outputs": [],
      "source": [
        "#Q5.What is mutability in python?\n",
        "\n",
        "#Ans. Mutability in Python refers to whether the value of an object can be changed after it is created.\n",
        "\n",
        "#Mutable objects: Can be changed or updated after creation.\n",
        "#Examples: list, dictionary, set."
      ]
    },
    {
      "cell_type": "code",
      "execution_count": null,
      "id": "2a90940d-1eef-461a-8c20-2bbca922976a",
      "metadata": {
        "id": "2a90940d-1eef-461a-8c20-2bbca922976a"
      },
      "outputs": [],
      "source": [
        "#Q6. Why are lists are mutable, but tuples are immutable?\n",
        "\n",
        "#Ans. Lists are mutable because they are designed to allow modifications, such as adding, removing, or changing elements.\n",
        "#Tuples are immutable to provide a fixed and unchangeable sequence, which ensures data integrity and allows them to be\n",
        "#used as keys in dictionaries or stored in sets."
      ]
    },
    {
      "cell_type": "code",
      "execution_count": null,
      "id": "eb473b17-ab64-4862-a96e-0fc3a701f36d",
      "metadata": {
        "id": "eb473b17-ab64-4862-a96e-0fc3a701f36d",
        "outputId": "16c5c31d-ab05-42b9-ebd7-de114862861d"
      },
      "outputs": [
        {
          "name": "stdout",
          "output_type": "stream",
          "text": [
            "True\n"
          ]
        }
      ],
      "source": [
        "#Q7 what is difference between \"==\" and \"is\" operators in python?\n",
        "#Ans. \"==\" checks value equality: it evaluates whether the values of two objects are equal.\n",
        "#Example\n",
        "a = [1, 2, 3]\n",
        "b = [1, 2, 3]\n",
        "print(a == b)  # True (values are the same)\n"
      ]
    },
    {
      "cell_type": "code",
      "execution_count": null,
      "id": "e728ba61-6b19-420b-ad80-a6755b8cada1",
      "metadata": {
        "id": "e728ba61-6b19-420b-ad80-a6755b8cada1",
        "outputId": "e1d4da5d-f4ff-4075-d77a-0683e80c6d1d"
      },
      "outputs": [
        {
          "name": "stdout",
          "output_type": "stream",
          "text": [
            "False\n"
          ]
        }
      ],
      "source": [
        "# is checks identity equality: it evaluates whether two objects refer to the same memory location (i.e., they are the same object).\n",
        "# Example:\n",
        "a = [1, 2, 3]\n",
        "b = [1, 2, 3]\n",
        "print(a is b)  # False (different objects in memory)"
      ]
    },
    {
      "cell_type": "code",
      "execution_count": null,
      "id": "b6bc3c52-ac79-470a-8e8f-373af63a0dc1",
      "metadata": {
        "id": "b6bc3c52-ac79-470a-8e8f-373af63a0dc1"
      },
      "outputs": [],
      "source": [
        "# Q8. What are logical operators in python?\n",
        "\n",
        "#Ans. Logical operators in Python are used to combine conditional statements and return a boolean value (True or False).\n",
        " #The three main logical operators are:\n",
        "\n",
        "# and: Returns True if both conditions are true.\n",
        " # or: Returns True if at least one condition is true.\n",
        "# not: Reverses the result, returning True if the condition is false."
      ]
    },
    {
      "cell_type": "code",
      "execution_count": null,
      "id": "2653f395-d162-4e75-b7d4-5676812dfbc2",
      "metadata": {
        "id": "2653f395-d162-4e75-b7d4-5676812dfbc2"
      },
      "outputs": [],
      "source": [
        "#Q9. What is type casting in python?\n",
        "\n",
        "#Ans. Type casting in Python is the process of converting one data type into another.\n",
        "# It can be done either explicitly by the programmer or implicitly by Python during execution.\n",
        " #Explicit Type Casting (Manual conversion):\n",
        " #You use built-in functions like int(), float(), str(), etc.\n",
        " #Implicit Type Casting (Automatic conversion):\n",
        "# Python automatically converts one data type to another when required."
      ]
    },
    {
      "cell_type": "code",
      "execution_count": null,
      "id": "fbad2d0f-1591-4b0b-baef-6f805e105e35",
      "metadata": {
        "id": "fbad2d0f-1591-4b0b-baef-6f805e105e35"
      },
      "outputs": [],
      "source": [
        "#Q10. What is difference between implicit and explicit type casting?\n",
        "\n",
        "#Ans. Implicit Type Casting: Done automatically by Python, converting smaller or compatible types to larger ones.\n",
        " #Explicit Type Casting: Done manually using functions like int(), float(), etc."
      ]
    },
    {
      "cell_type": "code",
      "execution_count": null,
      "id": "4fd2ca77-1c47-4574-b5ca-ba565b564b5d",
      "metadata": {
        "id": "4fd2ca77-1c47-4574-b5ca-ba565b564b5d"
      },
      "outputs": [],
      "source": [
        "#Q11. What is the purpose of conditional statements in python?\n",
        "\n",
        "# Ans. The purpose of conditional statements in Python is to execute specific blocks of code based on whether a condition is True or False.\n",
        " # They allow decision-making in programs."
      ]
    },
    {
      "cell_type": "code",
      "execution_count": null,
      "id": "b94f2275-09ea-476d-927e-eea42129b37a",
      "metadata": {
        "id": "b94f2275-09ea-476d-927e-eea42129b37a"
      },
      "outputs": [],
      "source": [
        "#Q12. How does the elif statement work?\n",
        "\n",
        "# Ans.The elif statement in Python stands for \"else if\" and allows you to check multiple conditions in sequence.\n",
        " # If the if condition is false, Python evaluates the elif conditions one by one.\n",
        " # The first elif condition that evaluates to True executes, and the rest are skipped."
      ]
    },
    {
      "cell_type": "code",
      "execution_count": null,
      "id": "d4a42300-ab7d-4362-bf2e-27bf3c7820a3",
      "metadata": {
        "id": "d4a42300-ab7d-4362-bf2e-27bf3c7820a3"
      },
      "outputs": [],
      "source": [
        "#Q13. What is the difference between for and while loops?\n",
        "\n",
        "#Ans. The difference between for and while loops lies in their use and structure:\n",
        "\n",
        "# for Loop:\n",
        "\n",
        " #Iterates over a sequence (like a list, range, or string) or a predefined number of times.\n",
        "# Best for when the number of iterations is known or working with iterable objects.\n",
        "\n",
        "\n",
        "# while Loop:\n",
        "\n",
        "# Repeats as long as a specified condition is True.\n",
        "# Best for when the number of iterations is unknown and depends on a condition."
      ]
    },
    {
      "cell_type": "code",
      "execution_count": null,
      "id": "22d6f67e-6c0f-4c86-af3e-afbbf9e994ac",
      "metadata": {
        "id": "22d6f67e-6c0f-4c86-af3e-afbbf9e994ac"
      },
      "outputs": [],
      "source": [
        "# Q14. Describe a scenario where a while loop is more suitable than a for loop\n",
        "\n",
        "#  Ans. A while loop is more suitable when the number of iterations is unknown and depends on a condition that may change during the loop execution.\n",
        "# For example, a scenario where you need to keep asking the user for input until they provide a valid response:\n",
        "# In this case, you don't know how many times the user will need to be prompted,\n",
        "# so a while loop is ideal as it continues until the user gives a valid response."
      ]
    },
    {
      "cell_type": "code",
      "execution_count": null,
      "id": "5f79d6e5-b1ef-4108-83c1-84a1152e46c1",
      "metadata": {
        "id": "5f79d6e5-b1ef-4108-83c1-84a1152e46c1"
      },
      "outputs": [],
      "source": []
    },
    {
      "cell_type": "code",
      "execution_count": null,
      "id": "7a29a29e-dfcd-4c3b-a971-ca65bdfe1ccb",
      "metadata": {
        "id": "7a29a29e-dfcd-4c3b-a971-ca65bdfe1ccb"
      },
      "outputs": [],
      "source": []
    },
    {
      "cell_type": "code",
      "execution_count": null,
      "id": "e1cd5925-2644-4d27-9a02-5a3e784eec21",
      "metadata": {
        "id": "e1cd5925-2644-4d27-9a02-5a3e784eec21"
      },
      "outputs": [],
      "source": [
        "# PRACTICAL QUESTIONS"
      ]
    },
    {
      "cell_type": "code",
      "execution_count": null,
      "id": "a5fc88b6-19a2-490d-80ee-8538f4645d6f",
      "metadata": {
        "id": "a5fc88b6-19a2-490d-80ee-8538f4645d6f"
      },
      "outputs": [],
      "source": [
        "#Q1. write a python program to print \"Hello, World!\""
      ]
    },
    {
      "cell_type": "code",
      "execution_count": null,
      "id": "044c624d-5236-4ba2-b15a-caa600bc5f9f",
      "metadata": {
        "id": "044c624d-5236-4ba2-b15a-caa600bc5f9f",
        "outputId": "5e3142eb-c820-4396-d3cf-9c106af8f22e"
      },
      "outputs": [
        {
          "name": "stdout",
          "output_type": "stream",
          "text": [
            "Hello, World!\n"
          ]
        }
      ],
      "source": [
        "#Ans\n",
        "print(\"Hello, World!\")"
      ]
    },
    {
      "cell_type": "code",
      "execution_count": null,
      "id": "fc5a86ec-f72c-450e-bd9a-30db09b7ceb7",
      "metadata": {
        "id": "fc5a86ec-f72c-450e-bd9a-30db09b7ceb7"
      },
      "outputs": [],
      "source": [
        "# Q2. Write a python program that displays your name and age."
      ]
    },
    {
      "cell_type": "code",
      "execution_count": null,
      "id": "643058ce-89b9-45ba-93aa-1c00e98e5bb5",
      "metadata": {
        "id": "643058ce-89b9-45ba-93aa-1c00e98e5bb5",
        "outputId": "4f097e22-b1a9-43f4-db00-126fd4e4cf89"
      },
      "outputs": [
        {
          "name": "stdout",
          "output_type": "stream",
          "text": [
            "Ajay\n",
            "32\n"
          ]
        }
      ],
      "source": [
        "#Ans\n",
        "name = \"Ajay\"\n",
        "age = \"32\"\n",
        "print(name)\n",
        "print(age)"
      ]
    },
    {
      "cell_type": "code",
      "execution_count": null,
      "id": "b3571854-4fc2-4f86-9365-1c8143828ba5",
      "metadata": {
        "id": "b3571854-4fc2-4f86-9365-1c8143828ba5"
      },
      "outputs": [],
      "source": [
        "# Q3. Write code to print all pre-defined keywords in python using the keywords library."
      ]
    },
    {
      "cell_type": "code",
      "execution_count": null,
      "id": "b3f7e6b0-9f78-4d9e-89eb-4588ebb84447",
      "metadata": {
        "id": "b3f7e6b0-9f78-4d9e-89eb-4588ebb84447"
      },
      "outputs": [],
      "source": [
        "#Ans"
      ]
    },
    {
      "cell_type": "code",
      "execution_count": null,
      "id": "9b02c7df-bedd-4bc3-93d8-17afc8b27352",
      "metadata": {
        "id": "9b02c7df-bedd-4bc3-93d8-17afc8b27352",
        "outputId": "b4d51d98-65e0-4d69-a33b-06c0e0134acf"
      },
      "outputs": [
        {
          "name": "stdout",
          "output_type": "stream",
          "text": [
            "\n",
            "Here is a list of the Python keywords.  Enter any keyword to get more help.\n",
            "\n",
            "False               class               from                or\n",
            "None                continue            global              pass\n",
            "True                def                 if                  raise\n",
            "and                 del                 import              return\n",
            "as                  elif                in                  try\n",
            "assert              else                is                  while\n",
            "async               except              lambda              with\n",
            "await               finally             nonlocal            yield\n",
            "break               for                 not                 \n",
            "\n"
          ]
        }
      ],
      "source": [
        "help('keywords')"
      ]
    },
    {
      "cell_type": "code",
      "execution_count": null,
      "id": "d82456c8-72b0-4a65-add4-2cb9afb5455a",
      "metadata": {
        "id": "d82456c8-72b0-4a65-add4-2cb9afb5455a"
      },
      "outputs": [],
      "source": [
        "# Q4.write a program that checks if a given word is a python keyword library"
      ]
    },
    {
      "cell_type": "code",
      "execution_count": null,
      "id": "7ff5d82f-bba3-4ef3-a7f4-bebe18a510fa",
      "metadata": {
        "id": "7ff5d82f-bba3-4ef3-a7f4-bebe18a510fa",
        "outputId": "84a09da3-eddf-4455-d34b-09cf980f4031"
      },
      "outputs": [
        {
          "name": "stdin",
          "output_type": "stream",
          "text": [
            "Enter a word to check if it is a Python keyword:  and\n"
          ]
        },
        {
          "name": "stdout",
          "output_type": "stream",
          "text": [
            "'and' is a Python keyword.\n"
          ]
        }
      ],
      "source": [
        "# Program to check if a given word is a Python keyword\n",
        "import keyword\n",
        "\n",
        "def is_keyword(word):\n",
        "    # Check if the word is a keyword\n",
        "    return keyword.iskeyword(word)\n",
        "\n",
        "def main():\n",
        "    # Input a word from the user\n",
        "    word = input(\"Enter a word to check if it is a Python keyword: \").strip()\n",
        "\n",
        "    # Check and display the result\n",
        "    if is_keyword(word):\n",
        "        print(f\"'{word}' is a Python keyword.\")\n",
        "    else:\n",
        "        print(f\"'{word}' is NOT a Python keyword.\")\n",
        "\n",
        "# Call the main function\n",
        "if __name__ == \"__main__\":\n",
        "    main()"
      ]
    },
    {
      "cell_type": "code",
      "execution_count": null,
      "id": "2e390c93-8704-4c25-b401-9966c6ff103a",
      "metadata": {
        "id": "2e390c93-8704-4c25-b401-9966c6ff103a"
      },
      "outputs": [],
      "source": [
        "# Q5. Create a list and tuple in python and demonstrate how attempting to change an element works differently for each"
      ]
    },
    {
      "cell_type": "code",
      "execution_count": null,
      "id": "1c9db0c5-61ca-4f1e-b38e-7934b5abfbb0",
      "metadata": {
        "id": "1c9db0c5-61ca-4f1e-b38e-7934b5abfbb0",
        "outputId": "5224ec95-00b7-43a3-9913-d1c45e220ca0"
      },
      "outputs": [
        {
          "name": "stdout",
          "output_type": "stream",
          "text": [
            "Original List: [1, 2, 3]\n",
            "Modified List: [1, 42, 3]\n"
          ]
        }
      ],
      "source": [
        "#Ans\n",
        "# Creating a list and a tuple\n",
        "my_list = [1, 2, 3]\n",
        "my_tuple = (1, 2, 3)\n",
        "# Trying to modify an element in the list\n",
        "print(\"Original List:\", my_list)\n",
        "my_list[1] = 42  # Modifying the second element in the list\n",
        "print(\"Modified List:\", my_list)"
      ]
    },
    {
      "cell_type": "code",
      "execution_count": null,
      "id": "cdf2a163-5a55-471e-85dc-abfa829093bc",
      "metadata": {
        "id": "cdf2a163-5a55-471e-85dc-abfa829093bc",
        "outputId": "4af26b38-9a32-4655-f164-b5130b02c194"
      },
      "outputs": [
        {
          "name": "stdout",
          "output_type": "stream",
          "text": [
            "\n",
            "Original Tuple: (1, 2, 3)\n",
            "Error: 'tuple' object does not support item assignment\n"
          ]
        }
      ],
      "source": [
        "# Trying to modify an element in the tuple\n",
        "print(\"\\nOriginal Tuple:\", my_tuple)\n",
        "try:\n",
        "    my_tuple[1] = 42  # Attempting to modify the second element in the tuple\n",
        "except TypeError as e:\n",
        "    print(\"Error:\", e)"
      ]
    },
    {
      "cell_type": "code",
      "execution_count": null,
      "id": "3535718d-19f0-4854-87d8-3936b42acd64",
      "metadata": {
        "id": "3535718d-19f0-4854-87d8-3936b42acd64"
      },
      "outputs": [],
      "source": [
        "# Q6. Write a function to demonstrate the behavior of mutable and immutable agruments"
      ]
    },
    {
      "cell_type": "code",
      "execution_count": null,
      "id": "f24c2129-f000-43bb-87d6-67dd575afefd",
      "metadata": {
        "id": "f24c2129-f000-43bb-87d6-67dd575afefd",
        "outputId": "635960fc-4533-4b7c-b335-3fcc330a11ff"
      },
      "outputs": [
        {
          "name": "stdout",
          "output_type": "stream",
          "text": [
            "Before function call:\n",
            "List: [1, 2, 3]\n",
            "Number: 10\n",
            "\n",
            "After function call:\n",
            "List: [1, 2, 3, 42]\n",
            "Number: 10\n"
          ]
        }
      ],
      "source": [
        "#Ans\n",
        "def modify_values(mutable_obj, immutable_obj):\n",
        "    # Modify the mutable object (e.g., list)\n",
        "    mutable_obj.append(42)\n",
        "\n",
        "    # Try to modify the immutable object (e.g., integer)\n",
        "    immutable_obj += 1  # Creates a new object for immutable types\n",
        "\n",
        "# Test the function\n",
        "my_list = [1, 2, 3]  # Mutable object\n",
        "my_number = 10       # Immutable object\n",
        "\n",
        "print(\"Before function call:\")\n",
        "print(\"List:\", my_list)\n",
        "print(\"Number:\", my_number)\n",
        "\n",
        "# Call the function\n",
        "modify_values(my_list, my_number)\n",
        "\n",
        "print(\"\\nAfter function call:\")\n",
        "print(\"List:\", my_list)  # Modified because it's mutable\n",
        "print(\"Number:\", my_number)  # Unchanged because it's immutable\n"
      ]
    },
    {
      "cell_type": "code",
      "execution_count": null,
      "id": "34426c7c-727b-482c-ba33-45ab694d5cc8",
      "metadata": {
        "id": "34426c7c-727b-482c-ba33-45ab694d5cc8"
      },
      "outputs": [],
      "source": [
        "# Q7. Write a function to demonstrate the behavior of mutable and immutable agruments"
      ]
    },
    {
      "cell_type": "code",
      "execution_count": null,
      "id": "acbe93d9-5252-47a5-8265-257120ae7fc0",
      "metadata": {
        "id": "acbe93d9-5252-47a5-8265-257120ae7fc0",
        "outputId": "7c972051-8cb2-4dee-d20f-c17c7c98f403"
      },
      "outputs": [
        {
          "name": "stdout",
          "output_type": "stream",
          "text": [
            "Before function call:\n",
            "List: [1, 2, 3]\n",
            "Number: 10\n",
            "\n",
            "After function call:\n",
            "List: [1, 2, 3, 42]\n",
            "Number: 10\n"
          ]
        }
      ],
      "source": [
        "#Ans\n",
        "def modify_values(mutable_obj, immutable_obj):\n",
        "    # Modify the mutable object (e.g., list)\n",
        "    mutable_obj.append(42)\n",
        "\n",
        "    # Try to modify the immutable object (e.g., integer)\n",
        "    immutable_obj += 1  # Creates a new object for immutable types\n",
        "\n",
        "# Test the function\n",
        "my_list = [1, 2, 3]  # Mutable object\n",
        "my_number = 10       # Immutable object\n",
        "\n",
        "print(\"Before function call:\")\n",
        "print(\"List:\", my_list)\n",
        "print(\"Number:\", my_number)\n",
        "\n",
        "# Call the function\n",
        "modify_values(my_list, my_number)\n",
        "\n",
        "print(\"\\nAfter function call:\")\n",
        "print(\"List:\", my_list)  # Modified because it's mutable\n",
        "print(\"Number:\", my_number)  # Unchanged because it's immutable\n"
      ]
    },
    {
      "cell_type": "code",
      "execution_count": null,
      "id": "1a2b5415-bc06-48a8-a464-1ed58b9c2781",
      "metadata": {
        "id": "1a2b5415-bc06-48a8-a464-1ed58b9c2781"
      },
      "outputs": [],
      "source": [
        "# Q8. Write a program to demonstrate the use of logical operators."
      ]
    },
    {
      "cell_type": "code",
      "execution_count": null,
      "id": "57ceebc7-cb3d-4da9-ac3a-6e0ce26033ea",
      "metadata": {
        "id": "57ceebc7-cb3d-4da9-ac3a-6e0ce26033ea",
        "outputId": "90e1d88f-fdd5-47e4-9060-455a2ba7f839"
      },
      "outputs": [
        {
          "name": "stdout",
          "output_type": "stream",
          "text": [
            "a > 3 and b < 15: True\n",
            "a > 3 or b > 20: True\n",
            "not (a > 3 and b > 20): True\n"
          ]
        }
      ],
      "source": [
        "#Ans\n",
        "# Simple program to demonstrate logical operators\n",
        "\n",
        "# Define two variables\n",
        "a = 5\n",
        "b = 10\n",
        "\n",
        "# Using 'and' logical operator\n",
        "print(\"a > 3 and b < 15:\", a > 3 and b < 15)  # True because both conditions are true\n",
        "\n",
        "# Using 'or' logical operator\n",
        "print(\"a > 3 or b > 20:\", a > 3 or b > 20)  # True because the first condition is true\n",
        "\n",
        "# Using 'not' logical operator\n",
        "print(\"not (a > 3 and b > 20):\", not (a > 3 and b > 20))  # True because the condition inside is false\n",
        "\n"
      ]
    },
    {
      "cell_type": "code",
      "execution_count": null,
      "id": "a7cd3235-cffc-459e-9742-673ac922c084",
      "metadata": {
        "id": "a7cd3235-cffc-459e-9742-673ac922c084"
      },
      "outputs": [],
      "source": [
        "# Q9. write a python program to convert user input from string to integer,float and boolean types."
      ]
    },
    {
      "cell_type": "code",
      "execution_count": null,
      "id": "e7cc1777-e6ad-46a3-854b-5b8012b15a18",
      "metadata": {
        "id": "e7cc1777-e6ad-46a3-854b-5b8012b15a18",
        "outputId": "03c59a41-3cf9-4a01-fd99-35bc2b07f5f7"
      },
      "outputs": [
        {
          "name": "stdin",
          "output_type": "stream",
          "text": [
            "Enter a value:  500\n"
          ]
        },
        {
          "name": "stdout",
          "output_type": "stream",
          "text": [
            "Converted to integer: 500\n",
            "Converted to float: 500.0\n",
            "Converted to boolean: False\n"
          ]
        }
      ],
      "source": [
        "#Ans\n",
        "# Program to convert user input to integer, float, and boolean\n",
        "\n",
        "# Get input from the user\n",
        "user_input = input(\"Enter a value: \")\n",
        "\n",
        "# Convert input to integer (if possible)\n",
        "try:\n",
        "    int_value = int(user_input)\n",
        "    print(\"Converted to integer:\", int_value)\n",
        "except ValueError:\n",
        "    print(\"Cannot convert to integer.\")\n",
        "\n",
        "# Convert input to float (if possible)\n",
        "try:\n",
        "    float_value = float(user_input)\n",
        "    print(\"Converted to float:\", float_value)\n",
        "except ValueError:\n",
        "    print(\"Cannot convert to float.\")\n",
        "\n",
        "# Convert input to boolean\n",
        "# If input is 'True' or 'true', it will be True. Otherwise, it will be False.\n",
        "boolean_value = user_input.lower() == 'true'\n",
        "print(\"Converted to boolean:\", boolean_value)\n"
      ]
    },
    {
      "cell_type": "code",
      "execution_count": null,
      "id": "e6b3a012-057b-46db-8f3e-ed6d9b7d20a2",
      "metadata": {
        "id": "e6b3a012-057b-46db-8f3e-ed6d9b7d20a2"
      },
      "outputs": [],
      "source": [
        "# Q10 . write code to demonstrate type casting and list elements"
      ]
    },
    {
      "cell_type": "code",
      "execution_count": null,
      "id": "4445436d-a70f-4045-bd98-b1db382f5028",
      "metadata": {
        "id": "4445436d-a70f-4045-bd98-b1db382f5028",
        "outputId": "5975160b-4fbf-420e-b903-08c7832f9f7d"
      },
      "outputs": [
        {
          "name": "stdout",
          "output_type": "stream",
          "text": [
            "Original List: ['10', '20.5', 'True']\n",
            "Converted to Integer: 10\n",
            "Converted to Float: 20.5\n",
            "Converted to Boolean: True\n"
          ]
        }
      ],
      "source": [
        "#Ans\n",
        "# Program to demonstrate type casting and list elements\n",
        "\n",
        "# Define a list with different data types\n",
        "my_list = ['10', '20.5', 'True']\n",
        "\n",
        "# Type casting elements in the list\n",
        "int_value = int(my_list[0])  # Convert string '10' to integer\n",
        "float_value = float(my_list[1])  # Convert string '20.5' to float\n",
        "bool_value = bool(my_list[2])  # Convert string 'True' to boolean\n",
        "\n",
        "# Print the original list and the casted values\n",
        "print(\"Original List:\", my_list)\n",
        "print(\"Converted to Integer:\", int_value)\n",
        "print(\"Converted to Float:\", float_value)\n",
        "print(\"Converted to Boolean:\", bool_value)\n"
      ]
    },
    {
      "cell_type": "code",
      "execution_count": null,
      "id": "4dd03d59-3254-405a-bb2e-27a0c9224fd1",
      "metadata": {
        "id": "4dd03d59-3254-405a-bb2e-27a0c9224fd1"
      },
      "outputs": [],
      "source": [
        "# Q11. Write a program that check if a number is positive ,negative or zero."
      ]
    },
    {
      "cell_type": "code",
      "execution_count": null,
      "id": "f152532d-71f7-43fa-9b7d-ef17affa339a",
      "metadata": {
        "id": "f152532d-71f7-43fa-9b7d-ef17affa339a",
        "outputId": "2ccf5b68-05f0-4bf9-c817-97ffe9008c4a"
      },
      "outputs": [
        {
          "name": "stdin",
          "output_type": "stream",
          "text": [
            "Enter a number:  65\n"
          ]
        },
        {
          "name": "stdout",
          "output_type": "stream",
          "text": [
            "The number is positive.\n"
          ]
        }
      ],
      "source": [
        "#Ans\n",
        "# Program to check if a number is positive, negative, or zero\n",
        "\n",
        "# Get input from the user\n",
        "num = float(input(\"Enter a number: \"))\n",
        "\n",
        "# Check the condition\n",
        "if num > 0:\n",
        "    print(\"The number is positive.\")\n",
        "elif num < 0:\n",
        "    print(\"The number is negative.\")\n",
        "else:\n",
        "    print(\"The number is zero.\")\n"
      ]
    },
    {
      "cell_type": "code",
      "execution_count": null,
      "id": "b18d8c2c-0d0d-4303-b939-73d329254d5e",
      "metadata": {
        "id": "b18d8c2c-0d0d-4303-b939-73d329254d5e"
      },
      "outputs": [],
      "source": [
        "# Q12. write a for loop to print numbers for 1 to 10."
      ]
    },
    {
      "cell_type": "code",
      "execution_count": null,
      "id": "45466775-65c4-401e-a36f-fa69bed81b46",
      "metadata": {
        "id": "45466775-65c4-401e-a36f-fa69bed81b46",
        "outputId": "6b18b084-edc8-4045-bbc0-7d69f5bd35e8"
      },
      "outputs": [
        {
          "name": "stdout",
          "output_type": "stream",
          "text": [
            "1\n",
            "2\n",
            "3\n",
            "4\n",
            "5\n",
            "6\n",
            "7\n",
            "8\n",
            "9\n",
            "10\n"
          ]
        }
      ],
      "source": [
        "#Ans\n",
        "# Program to print numbers from 1 to 10 using a for loop\n",
        "\n",
        "# Using the range function to generate numbers from 1 to 10\n",
        "for number in range(1, 11):\n",
        "    print(number)\n"
      ]
    },
    {
      "cell_type": "code",
      "execution_count": null,
      "id": "dc6b4667-5943-4a16-ba1e-bb7765d46ffa",
      "metadata": {
        "id": "dc6b4667-5943-4a16-ba1e-bb7765d46ffa"
      },
      "outputs": [],
      "source": [
        "# Q13.Write a python program to find the sum of all even numbers between 1 to 50"
      ]
    },
    {
      "cell_type": "code",
      "execution_count": null,
      "id": "ce3dfeb6-84cb-471b-90b9-0f7079d79146",
      "metadata": {
        "id": "ce3dfeb6-84cb-471b-90b9-0f7079d79146",
        "outputId": "5a540895-5a0a-41f2-8e6b-e609f59a286d"
      },
      "outputs": [
        {
          "name": "stdout",
          "output_type": "stream",
          "text": [
            "Sum of all even numbers between 1 and 50: 650\n"
          ]
        }
      ],
      "source": [
        "#Ans\n",
        "# Program to find the sum of all even numbers between 1 and 50\n",
        "\n",
        "# Initialize sum variable\n",
        "sum_even = 0\n",
        "\n",
        "# Loop through numbers from 1 to 50\n",
        "for number in range(1, 51):\n",
        "    if number % 2 == 0:  # Check if the number is even\n",
        "        sum_even += number  # Add the even number to sum\n",
        "\n",
        "# Print the result\n",
        "print(\"Sum of all even numbers between 1 and 50:\", sum_even)\n"
      ]
    },
    {
      "cell_type": "code",
      "execution_count": null,
      "id": "fe6e87bb-b1ea-4d6a-a5d8-d9478ad9ce45",
      "metadata": {
        "id": "fe6e87bb-b1ea-4d6a-a5d8-d9478ad9ce45"
      },
      "outputs": [],
      "source": [
        "# Q14. Write a program to reverse a string using a while loop"
      ]
    },
    {
      "cell_type": "code",
      "execution_count": null,
      "id": "1bf07c3f-ce92-4cb0-9b30-8c96b8260aaa",
      "metadata": {
        "id": "1bf07c3f-ce92-4cb0-9b30-8c96b8260aaa",
        "outputId": "3aa236d6-b419-41e9-f5e3-abf49f413916"
      },
      "outputs": [
        {
          "name": "stdin",
          "output_type": "stream",
          "text": [
            "Enter a string:  ajay\n"
          ]
        },
        {
          "name": "stdout",
          "output_type": "stream",
          "text": [
            "Reversed string: yaja\n"
          ]
        }
      ],
      "source": [
        "#Ans\n",
        "# Program to reverse a string using a while loop\n",
        "\n",
        "# Input string from the user\n",
        "string = input(\"Enter a string: \")\n",
        "\n",
        "# Initialize an empty string to store the reversed string\n",
        "reversed_string = \"\"\n",
        "\n",
        "# Initialize a counter for the length of the string\n",
        "index = len(string) - 1\n",
        "\n",
        "# Use a while loop to reverse the string\n",
        "while index >= 0:\n",
        "    reversed_string += string[index]  # Add the character at 'index' to the reversed string\n",
        "    index -= 1  # Decrease the index to move to the previous character\n",
        "\n",
        "# Print the reversed string\n",
        "print(\"Reversed string:\", reversed_string)\n",
        "\n"
      ]
    },
    {
      "cell_type": "code",
      "execution_count": null,
      "id": "e879b43a-4696-456e-8b43-ea38e717b641",
      "metadata": {
        "id": "e879b43a-4696-456e-8b43-ea38e717b641"
      },
      "outputs": [],
      "source": [
        "# Q15. write a python program to calculate the factorical of a number provided by the user using a while loop"
      ]
    },
    {
      "cell_type": "code",
      "execution_count": null,
      "id": "e0bbfdb9-4196-4efc-bbc3-811b89ac3c98",
      "metadata": {
        "id": "e0bbfdb9-4196-4efc-bbc3-811b89ac3c98",
        "outputId": "31b65c7f-d6c5-4fdb-a733-cb750f8965e8"
      },
      "outputs": [
        {
          "name": "stdin",
          "output_type": "stream",
          "text": [
            "Enter a number:  25\n"
          ]
        },
        {
          "name": "stdout",
          "output_type": "stream",
          "text": [
            "Factorial is: 15511210043330985984000000\n"
          ]
        }
      ],
      "source": [
        "#Ans\n",
        "# Program to calculate the factorial of a number using a while loop\n",
        "\n",
        "# Get input from the user\n",
        "num = int(input(\"Enter a number: \"))\n",
        "\n",
        "# Initialize factorial variable\n",
        "factorial = 1\n",
        "\n",
        "# Check if the number is non-negative\n",
        "if num < 0:\n",
        "    print(\"Factorial is not defined for negative numbers.\")\n",
        "else:\n",
        "    # Use a while loop to calculate factorial\n",
        "    while num > 1:\n",
        "        factorial *= num  # Multiply the current value of factorial by the number\n",
        "        num -= 1  # Decrease the number by 1\n",
        "\n",
        "    # Print the result\n",
        "    print(\"Factorial is:\", factorial)\n"
      ]
    }
  ],
  "metadata": {
    "kernelspec": {
      "display_name": "Python 3 (ipykernel)",
      "language": "python",
      "name": "python3"
    },
    "language_info": {
      "codemirror_mode": {
        "name": "ipython",
        "version": 3
      },
      "file_extension": ".py",
      "mimetype": "text/x-python",
      "name": "python",
      "nbconvert_exporter": "python",
      "pygments_lexer": "ipython3",
      "version": "3.13.1"
    },
    "colab": {
      "provenance": []
    }
  },
  "nbformat": 4,
  "nbformat_minor": 5
}